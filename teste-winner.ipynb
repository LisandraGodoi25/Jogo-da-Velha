{
 "cells": [
  {
   "cell_type": "markdown",
   "id": "d19696d0",
   "metadata": {},
   "source": [
    "# Teste função WINNER"
   ]
  },
  {
   "cell_type": "code",
   "execution_count": 2,
   "id": "957e66b4",
   "metadata": {},
   "outputs": [
    {
     "name": "stdout",
     "output_type": "stream",
     "text": [
      "Será que alguém venceu???\n",
      "1 2 3\n",
      "LOSER!!!\n",
      "4 5 6\n",
      "LOSER!!!\n",
      "7 8 9\n",
      "LOSER!!!\n",
      "1 4 7\n",
      "LOSER!!!\n",
      "2 5 8\n",
      "LOSER!!!\n",
      "3 6 9\n",
      "LOSER!!!\n",
      "1 5 9\n",
      "LOSER!!!\n",
      "O O O\n",
      "WINNER!!!\n"
     ]
    }
   ],
   "source": [
    "\n",
    "board = [[1,2,3],\n",
    "        [4,5,6],\n",
    "        [7,8,9]]\n",
    "\n",
    "win = [[1,2,3],\n",
    "        [4,5,6],\n",
    "        [7,8,9],\n",
    "        [1,4,7],\n",
    "        [2,5,8],\n",
    "        [3,6,9],\n",
    "        [1,5,9],\n",
    "        [\"O\",\"O\",\"O\"]\n",
    "]\n",
    "\n",
    "def winner():\n",
    "    print(\"Será que alguém venceu???\")\n",
    "    for indicelin, col in enumerate(win):          # i = índice da linha, row = a linha (ex: [1,2,3])\n",
    "        print(win[indicelin][0],win[indicelin][1],win[indicelin][2])\n",
    "        if win[indicelin][0] == win[indicelin][1] == win[indicelin][2]:\n",
    "            print(\"WINNER!!!\")\n",
    "        else:\n",
    "            print(\"LOSER!!!\")\n",
    "\n",
    "winner()\n"
   ]
  },
  {
   "cell_type": "markdown",
   "id": "b67e1b09",
   "metadata": {},
   "source": [
    "Mudança nas outras funções\n",
    "\n",
    "\n",
    "## yourturn()"
   ]
  },
  {
   "cell_type": "code",
   "execution_count": null,
   "id": "7e5b5e2f",
   "metadata": {},
   "outputs": [
    {
     "name": "stdout",
     "output_type": "stream",
     "text": [
      "It's your turn!!!\n",
      "Número encontrado na posição: linha 0, coluna 1\n",
      "Número encontrado na posição: linha 0, coluna 1\n",
      "Número encontrado na posição: linha 4, coluna 0\n",
      "[[1, 'O', 3], [4, 5, 6], [7, 8, 9]]\n",
      "[[1, 'O', 3], [4, 5, 6], [7, 8, 9], [1, 4, 7], ['O', 5, 8], [3, 6, 9], [1, 5, 9], [3, 5, 7]]\n"
     ]
    }
   ],
   "source": [
    "\"\"\"\n",
    "board = [[1,2,3],\n",
    "        [4,5,6],\n",
    "        [7,8,9]]\n",
    "\n",
    "\n",
    "\n",
    "\n",
    "win = [[1,2,3],\n",
    "        [4,5,6],\n",
    "        [7,8,9],\n",
    "        [1,4,7],\n",
    "        [2,5,8],\n",
    "        [3,6,9],\n",
    "        [1,5,9],\n",
    "        [3,5,7]\n",
    "]\n",
    "\n",
    "choices = [1,2,3,4,5,6,7,8,9]\n",
    "\n",
    "def yourturn():\n",
    "    print(\"It's your turn!!!\")\n",
    "    found = 0\n",
    "    while found == 0:\n",
    "\n",
    "        number = 2\n",
    "\n",
    "        while True:\n",
    "            for indicelin, col in enumerate(board):          # i = índice da linha, row = a linha (ex: [1,2,3])\n",
    "                if number in col:\n",
    "                    indicecol = col.index(number)            # j = índice do número dentro da linha\n",
    "                    print(f\"Número encontrado na posição: linha {indicelin}, coluna {indicecol}\")\n",
    "                    board[indicelin][indicecol] = \"O\"\n",
    "                    found = 1\n",
    "                    break\n",
    "            found = 1\n",
    "            break\"\"\"\n",
    "\n",
    "        # ADICIONAR ESSA FUNÇÃO AO CÓDIGO\n",
    "        # MUDANÇA DE VALOR NA TABELA DE WIN\n",
    "        while True: \n",
    "            for indicelin, col in enumerate(win):          # i = índice da linha, row = a linha (ex: [1,2,3])\n",
    "                if number in col:\n",
    "                    indicecol = col.index(number)            # j = índice do número dentro da linha\n",
    "                    print(f\"Número encontrado na posição: linha {indicelin}, coluna {indicecol}\")\n",
    "                    win[indicelin][indicecol] = \"O\"\n",
    "\n",
    "                    found = 1\n",
    "            found = 1\n",
    "            break\n",
    "        continue\n",
    "\"\"\"\n",
    "\n",
    "yourturn()\n",
    "print(board)\n",
    "print(win)\"\"\""
   ]
  },
  {
   "cell_type": "markdown",
   "id": "21421590",
   "metadata": {},
   "source": [
    "## myturn()"
   ]
  },
  {
   "cell_type": "code",
   "execution_count": null,
   "id": "d636066a",
   "metadata": {},
   "outputs": [],
   "source": [
    "board = [[1,2,3],\n",
    "        [4,5,6],\n",
    "        [7,8,9]]\n",
    "\n",
    "win = [[1,2,3],\n",
    "        [4,5,6],\n",
    "        [7,8,9],\n",
    "        [1,4,7],\n",
    "        [2,5,8],\n",
    "        [3,6,9],\n",
    "        [1,5,9],\n",
    "        [3,5,7]\n",
    "]\n",
    "\n",
    "choices = [1,2,3,4,5,6,7,8,9]\n",
    "\n",
    "\n",
    "def myturn():\n",
    "    print(\"Now it's my turn!!!\")\n",
    "    try:\n",
    "        while True:\n",
    "            number = randint(1,10)\n",
    "            print(\"Number:\",number)\n",
    "            if number in choices:\n",
    "                choices.remove(number)\n",
    "                break\n",
    "            else:\n",
    "                print(\"TRY AGAIN\")\n",
    "        print(\"Choices:\",choices)\n",
    "        while True:\n",
    "            for indicelin, col in enumerate(board):          # i = índice da linha, row = a linha (ex: [1,2,3])\n",
    "                if number in col:\n",
    "                    indicecol = col.index(number)            # j = índice do número dentro da linha\n",
    "                    print(f\"Número encontrado na posição: linha {indicelin}, coluna {indicecol}\")\n",
    "                    board[indicelin][indicecol] = \"X\"\n",
    "                    show_board()\n",
    "                    found = True\n",
    "                    break\n",
    "            break\n",
    "    except:\n",
    "        print(\"LITERALMENTE CHEGAR AQUI DEVERIA SER IMPOSSÍVEL\")"
   ]
  }
 ],
 "metadata": {
  "kernelspec": {
   "display_name": "Python 3",
   "language": "python",
   "name": "python3"
  },
  "language_info": {
   "codemirror_mode": {
    "name": "ipython",
    "version": 3
   },
   "file_extension": ".py",
   "mimetype": "text/x-python",
   "name": "python",
   "nbconvert_exporter": "python",
   "pygments_lexer": "ipython3",
   "version": "3.13.5"
  }
 },
 "nbformat": 4,
 "nbformat_minor": 5
}
